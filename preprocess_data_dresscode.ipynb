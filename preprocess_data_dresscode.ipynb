{
 "cells": [
  {
   "cell_type": "code",
   "execution_count": 1,
   "id": "cc91de50-1206-4989-ab1b-8c0fa8d74f3f",
   "metadata": {
    "tags": []
   },
   "outputs": [],
   "source": [
    "import os\n",
    "from PIL import Image\n",
    "import matplotlib.pyplot as plt\n",
    "import torch\n",
    "import torch.nn as nn\n",
    "import numpy as np\n",
    "from scipy.ndimage import binary_dilation\n",
    "from tqdm import tqdm\n",
    "import matplotlib.pyplot as plt\n",
    "import matplotlib.image\n",
    "from dataloader.dresscode.dataloader import DataLoader as DressCode_DataLoader\n",
    "from dataloader.dresscode.dataset import Dataset as DressCode_Dataset\n",
    "from concurrent.futures import ProcessPoolExecutor"
   ]
  },
  {
   "cell_type": "code",
   "execution_count": 2,
   "id": "2ea2ad24-51ce-4f7d-bc5d-06f5dfce5d91",
   "metadata": {
    "tags": []
   },
   "outputs": [],
   "source": [
    "from dataclasses import dataclass\n",
    "\n",
    "@dataclass\n",
    "class Args:\n",
    "    exp_name: str = None\n",
    "    category: str = \"dress\"\n",
    "    dataroot: str = Exception()\n",
    "    data_pairs: str = \"{}_pairs\"\n",
    "    checkpoint_dir: str = \"\"\n",
    "    batch_size: int = 1\n",
    "    workers: int = 0\n",
    "    epochs: int = 150\n",
    "    step: int = 100000\n",
    "    display_count: int = 1000\n",
    "    shuffle: bool = True\n",
    "    height: int = 512\n",
    "    width: int = 384\n",
    "    radius: int = 5\n",
    "    \n",
    "\n",
    "args = Args(dataroot=\"../datasets/DressCode\")"
   ]
  },
  {
   "cell_type": "code",
   "execution_count": 3,
   "id": "59a38515-3657-435f-8fd3-37e5157050d3",
   "metadata": {
    "tags": []
   },
   "outputs": [
    {
     "data": {
      "text/plain": [
       "['047764_0.png', '038032_0.png', '042522_0.png', '052998_0.png']"
      ]
     },
     "execution_count": 3,
     "metadata": {},
     "output_type": "execute_result"
    }
   ],
   "source": [
    "os.listdir(\"../datasets/DressCode/dresses/agnostic_masks\")[:4]"
   ]
  },
  {
   "cell_type": "code",
   "execution_count": 3,
   "id": "659b8a03-4d25-43a2-bf0c-93f9339213f1",
   "metadata": {
    "tags": []
   },
   "outputs": [],
   "source": [
    "dataset_train = DressCode_Dataset(args, \n",
    "                        dataroot_path=args.dataroot, \n",
    "                        category=[\"dresses\"],\n",
    "                        phase='train',\n",
    "                        order='paired',\n",
    "                        size=(int(args.height), int(args.width)))\n",
    "\n",
    "# dataloader_train = DressCode_DataLoader(args, dataset_train, dist_sampler=False)"
   ]
  },
  {
   "cell_type": "code",
   "execution_count": 6,
   "id": "1a2dff6f-c49d-44d2-a20c-0f6d9107ea59",
   "metadata": {
    "tags": []
   },
   "outputs": [
    {
     "data": {
      "image/png": "[encoded data removed]",
      "text/plain": [
       "<Figure size 640x480 with 1 Axes>"
      ]
     },
     "metadata": {},
     "output_type": "display_data"
    }
   ],
   "source": [
    "for i in range(len(dataset_train)):\n",
    "    mask_ground_truth = dataset_train[i][\"person_mask\"]\n",
    "    plt.imshow(mask_ground_truth)\n",
    "    break\n",
    "plt.show()"
   ]
  },
  {
   "cell_type": "code",
   "execution_count": 5,
   "id": "d23974d4-8904-45c5-8ee0-97453d6aaaee",
   "metadata": {
    "tags": []
   },
   "outputs": [],
   "source": [
    "padding = 20\n",
    "\n",
    "def preprocess(i):\n",
    "    sample = dataset_train[i]\n",
    "\n",
    "    img_name = sample[\"im_name\"]\n",
    "\n",
    "    mask_raw = sample[\"person_mask\"]\n",
    "    \n",
    "    mask_ground_truth = sample[\"cloth_mask\"]\n",
    "    \n",
    "    mask_ground_truth = binary_dilation(mask_ground_truth, structure=np.ones((padding, padding)))\n",
    "\n",
    "    matplotlib.image.imsave(os.path.join(args.dataroot, \"dresses\", \"mask_raw\", img_name), mask_raw, cmap='gray')\n",
    "    \n",
    "    matplotlib.image.imsave(os.path.join(args.dataroot, \"dresses\", \"mask_ground_truth\", img_name), mask_ground_truth, cmap='gray')\n",
    "\n",
    "with ProcessPoolExecutor(max_workers=4) as executor:\n",
    "    p = executor.map(preprocess, range(len(dataset_train)))"
   ]
  },
  {
   "cell_type": "code",
   "execution_count": 6,
   "id": "e54bb538-c805-48ae-aae2-2c0399fcc8a0",
   "metadata": {
    "tags": []
   },
   "outputs": [],
   "source": [
    "dataset_train = DressCode_Dataset(args, \n",
    "                        dataroot_path=args.dataroot, \n",
    "                        category=[\"lower_body\"],\n",
    "                        phase='train',\n",
    "                        order='paired',\n",
    "                        size=(int(args.height), int(args.width)))\n",
    "\n",
    "padding = 20\n",
    "\n",
    "def preprocess(i):\n",
    "    sample = dataset_train[i]\n",
    "\n",
    "    img_name = sample[\"im_name\"]\n",
    "\n",
    "    mask_raw = sample[\"person_mask\"]\n",
    "    \n",
    "    mask_ground_truth = sample[\"cloth_mask\"]\n",
    "    \n",
    "    mask_ground_truth = binary_dilation(mask_ground_truth, structure=np.ones((padding, padding)))\n",
    "\n",
    "    matplotlib.image.imsave(os.path.join(args.dataroot, \"lower_body\", \"mask_raw\", img_name), mask_raw, cmap='gray')\n",
    "    \n",
    "    matplotlib.image.imsave(os.path.join(args.dataroot, \"lower_body\", \"mask_ground_truth\", img_name), mask_ground_truth, cmap='gray')\n",
    "\n",
    "with ProcessPoolExecutor(max_workers=4) as executor:\n",
    "    p = executor.map(preprocess, range(len(dataset_train)))"
   ]
  },
  {
   "cell_type": "code",
   "execution_count": 7,
   "id": "d820424f-3da4-4f73-861e-b5f61fd24117",
   "metadata": {
    "tags": []
   },
   "outputs": [],
   "source": [
    "dataset_train = DressCode_Dataset(args, \n",
    "                        dataroot_path=args.dataroot, \n",
    "                        category=[\"upper_body\"],\n",
    "                        phase='train',\n",
    "                        order='paired',\n",
    "                        size=(int(args.height), int(args.width)))\n",
    "\n",
    "padding = 20\n",
    "\n",
    "def preprocess(i):\n",
    "    sample = dataset_train[i]\n",
    "\n",
    "    img_name = sample[\"im_name\"]\n",
    "\n",
    "    mask_raw = sample[\"person_mask\"]\n",
    "    \n",
    "    mask_ground_truth = sample[\"cloth_mask\"]\n",
    "    \n",
    "    mask_ground_truth = binary_dilation(mask_ground_truth, structure=np.ones((padding, padding)))\n",
    "\n",
    "    matplotlib.image.imsave(os.path.join(args.dataroot, \"upper_body\", \"mask_raw\", img_name), mask_raw, cmap='gray')\n",
    "    \n",
    "    matplotlib.image.imsave(os.path.join(args.dataroot, \"upper_body\", \"mask_ground_truth\", img_name), mask_ground_truth, cmap='gray')\n",
    "\n",
    "with ProcessPoolExecutor(max_workers=4) as executor:\n",
    "    p = executor.map(preprocess, range(len(dataset_train)))"
   ]
  },
  {
   "cell_type": "code",
   "execution_count": 8,
   "id": "87baf08f-81ee-413e-b1da-8bbf5fcd6e89",
   "metadata": {
    "tags": []
   },
   "outputs": [
    {
     "data": {
      "text/plain": [
       "27679"
      ]
     },
     "execution_count": 8,
     "metadata": {},
     "output_type": "execute_result"
    }
   ],
   "source": [
    "len(os.listdir(\"../datasets/DressCode/dresses/mask_raw\"))"
   ]
  },
  {
   "cell_type": "code",
   "execution_count": 11,
   "id": "f5b7a974-295e-4852-b87f-d931be79e530",
   "metadata": {},
   "outputs": [],
   "source": [
    "category = \"dresses\"\n",
    "\n",
    "dataset = DressCode_Dataset(args, \n",
    "                        dataroot_path=args.dataroot, \n",
    "                        category=[category],\n",
    "                        phase='test',\n",
    "                        order='paired',\n",
    "                        size=(int(args.height), int(args.width)))\n",
    "\n",
    "padding = 20\n",
    "\n",
    "def preprocess(i):\n",
    "    sample = dataset[i]\n",
    "\n",
    "    img_name = sample[\"im_name\"]\n",
    "\n",
    "    mask_raw = sample[\"person_mask\"]\n",
    "    \n",
    "    mask_ground_truth = sample[\"cloth_mask\"]\n",
    "    \n",
    "    mask_ground_truth = binary_dilation(mask_ground_truth, structure=np.ones((padding, padding)))\n",
    "\n",
    "    matplotlib.image.imsave(os.path.join(args.dataroot, category, \"mask_raw\", img_name), mask_raw, cmap='gray')\n",
    "    \n",
    "    matplotlib.image.imsave(os.path.join(args.dataroot, category, \"mask_ground_truth\", img_name), mask_ground_truth, cmap='gray')\n",
    "\n",
    "with ProcessPoolExecutor(max_workers=4) as executor:\n",
    "    p = executor.map(preprocess, range(len(dataset)))"
   ]
  },
  {
   "cell_type": "code",
   "execution_count": 12,
   "id": "7d04323f-1dab-426a-bd47-8da3f95820c3",
   "metadata": {
    "tags": []
   },
   "outputs": [
    {
     "data": {
      "text/plain": [
       "29479"
      ]
     },
     "execution_count": 12,
     "metadata": {},
     "output_type": "execute_result"
    }
   ],
   "source": [
    "len(os.listdir(\"../datasets/DressCode/dresses/mask_raw\"))"
   ]
  },
  {
   "cell_type": "code",
   "execution_count": 13,
   "id": "8424e38f-c0f8-4735-83f1-29d60314b924",
   "metadata": {
    "tags": []
   },
   "outputs": [
    {
     "data": {
      "text/plain": [
       "7152"
      ]
     },
     "execution_count": 13,
     "metadata": {},
     "output_type": "execute_result"
    }
   ],
   "source": [
    "len(os.listdir(\"../datasets/DressCode/lower_body/mask_raw\"))"
   ]
  },
  {
   "cell_type": "code",
   "execution_count": 14,
   "id": "5f5cee3f-6996-45b4-a3c8-7528fb0c76dd",
   "metadata": {
    "tags": []
   },
   "outputs": [],
   "source": [
    "category = \"lower_body\"\n",
    "\n",
    "dataset = DressCode_Dataset(args, \n",
    "                        dataroot_path=args.dataroot, \n",
    "                        category=[category],\n",
    "                        phase='test',\n",
    "                        order='paired',\n",
    "                        size=(int(args.height), int(args.width)))\n",
    "\n",
    "padding = 20\n",
    "\n",
    "def preprocess(i):\n",
    "    sample = dataset[i]\n",
    "\n",
    "    img_name = sample[\"im_name\"]\n",
    "\n",
    "    mask_raw = sample[\"person_mask\"]\n",
    "    \n",
    "    mask_ground_truth = sample[\"cloth_mask\"]\n",
    "    \n",
    "    mask_ground_truth = binary_dilation(mask_ground_truth, structure=np.ones((padding, padding)))\n",
    "\n",
    "    matplotlib.image.imsave(os.path.join(args.dataroot, category, \"mask_raw\", img_name), mask_raw, cmap='gray')\n",
    "    \n",
    "    matplotlib.image.imsave(os.path.join(args.dataroot, category, \"mask_ground_truth\", img_name), mask_ground_truth, cmap='gray')\n",
    "\n",
    "with ProcessPoolExecutor(max_workers=4) as executor:\n",
    "    p = executor.map(preprocess, range(len(dataset)))"
   ]
  },
  {
   "cell_type": "code",
   "execution_count": 15,
   "id": "6ab5e690-8741-41fc-8faa-104bab395226",
   "metadata": {
    "tags": []
   },
   "outputs": [
    {
     "data": {
      "text/plain": [
       "8952"
      ]
     },
     "execution_count": 15,
     "metadata": {},
     "output_type": "execute_result"
    }
   ],
   "source": [
    "len(os.listdir(\"../datasets/DressCode/lower_body/mask_raw\"))"
   ]
  },
  {
   "cell_type": "code",
   "execution_count": 16,
   "id": "159a5f43-7ddb-42b4-a27f-e2386f5ddf8c",
   "metadata": {
    "tags": []
   },
   "outputs": [
    {
     "data": {
      "text/plain": [
       "13563"
      ]
     },
     "execution_count": 16,
     "metadata": {},
     "output_type": "execute_result"
    }
   ],
   "source": [
    "len(os.listdir(\"../datasets/DressCode/upper_body/mask_raw\"))"
   ]
  },
  {
   "cell_type": "code",
   "execution_count": 17,
   "id": "c91aaa21-ce9d-4247-b418-769bc0a7111d",
   "metadata": {
    "tags": []
   },
   "outputs": [],
   "source": [
    "category = \"upper_body\"\n",
    "\n",
    "dataset = DressCode_Dataset(args, \n",
    "                        dataroot_path=args.dataroot, \n",
    "                        category=[category],\n",
    "                        phase='test',\n",
    "                        order='paired',\n",
    "                        size=(int(args.height), int(args.width)))\n",
    "\n",
    "padding = 20\n",
    "\n",
    "def preprocess(i):\n",
    "    sample = dataset[i]\n",
    "\n",
    "    img_name = sample[\"im_name\"]\n",
    "\n",
    "    mask_raw = sample[\"person_mask\"]\n",
    "    \n",
    "    mask_ground_truth = sample[\"cloth_mask\"]\n",
    "    \n",
    "    mask_ground_truth = binary_dilation(mask_ground_truth, structure=np.ones((padding, padding)))\n",
    "\n",
    "    matplotlib.image.imsave(os.path.join(args.dataroot, category, \"mask_raw\", img_name), mask_raw, cmap='gray')\n",
    "    \n",
    "    matplotlib.image.imsave(os.path.join(args.dataroot, category, \"mask_ground_truth\", img_name), mask_ground_truth, cmap='gray')\n",
    "\n",
    "with ProcessPoolExecutor(max_workers=4) as executor:\n",
    "    p = executor.map(preprocess, range(len(dataset)))"
   ]
  },
  {
   "cell_type": "code",
   "execution_count": 18,
   "id": "a20d6e65-aa84-4d90-aa12-34c6d926311d",
   "metadata": {
    "tags": []
   },
   "outputs": [
    {
     "data": {
      "text/plain": [
       "15363"
      ]
     },
     "execution_count": 18,
     "metadata": {},
     "output_type": "execute_result"
    }
   ],
   "source": [
    "len(os.listdir(\"../datasets/DressCode/upper_body/mask_raw\"))"
   ]
  },
  {
   "cell_type": "code",
   "execution_count": null,
   "id": "bb0ed99a-f8ae-4f90-bac0-d5ac13b85853",
   "metadata": {},
   "outputs": [],
   "source": []
  },
  {
   "cell_type": "markdown",
   "id": "8db2674e-faa9-4491-918b-a156e3397959",
   "metadata": {},
   "source": [
    "agnostic_densepose"
   ]
  },
  {
   "cell_type": "code",
   "execution_count": null,
   "id": "fefa387b-047d-4972-bd93-19cd68a714fc",
   "metadata": {
    "tags": []
   },
   "outputs": [],
   "source": [
    "category = \"dresses\"\n",
    "\n",
    "dataset = DressCode_Dataset(args, \n",
    "                        dataroot_path=args.dataroot, \n",
    "                        category=[category],\n",
    "                        phase='train',\n",
    "                        order='paired',\n",
    "                        size=(int(args.height), int(args.width)))\n",
    "\n",
    "padding = 20\n",
    "\n",
    "def preprocess(i):\n",
    "    sample = dataset[i]\n",
    "\n",
    "    img_name = sample[\"im_name\"]\n",
    "\n",
    "    agnostic_densepose = sample['parse_mask_total']\n",
    "    \n",
    "    matplotlib.image.imsave(os.path.join(args.dataroot, category, \"agnostic_densepose\", img_name), agnostic_densepose)\n",
    "    \n",
    "with ProcessPoolExecutor(max_workers=4) as executor:\n",
    "    p = executor.map(preprocess, range(len(dataset)))"
   ]
  },
  {
   "cell_type": "code",
   "execution_count": null,
   "id": "0ea1c9a3-31b6-426c-a009-73e633a9df60",
   "metadata": {
    "tags": []
   },
   "outputs": [],
   "source": [
    "category = \"lower_body\"\n",
    "\n",
    "dataset = DressCode_Dataset(args, \n",
    "                        dataroot_path=args.dataroot, \n",
    "                        category=[category],\n",
    "                        phase='train',\n",
    "                        order='paired',\n",
    "                        size=(int(args.height), int(args.width)))\n",
    "\n",
    "padding = 20\n",
    "\n",
    "def preprocess(i):\n",
    "    sample = dataset[i]\n",
    "\n",
    "    img_name = sample[\"im_name\"]\n",
    "\n",
    "    agnostic_densepose = sample['parse_mask_total']\n",
    "    \n",
    "    matplotlib.image.imsave(os.path.join(args.dataroot, category, \"agnostic_densepose\", img_name), agnostic_densepose)\n",
    "    \n",
    "with ProcessPoolExecutor(max_workers=4) as executor:\n",
    "    p = executor.map(preprocess, range(len(dataset)))"
   ]
  },
  {
   "cell_type": "code",
   "execution_count": null,
   "id": "d303f008-8e58-4832-8990-d2f1a733ced2",
   "metadata": {
    "tags": []
   },
   "outputs": [],
   "source": [
    "category = \"upper_body\"\n",
    "\n",
    "dataset = DressCode_Dataset(args, \n",
    "                        dataroot_path=args.dataroot, \n",
    "                        category=[category],\n",
    "                        phase='train',\n",
    "                        order='paired',\n",
    "                        size=(int(args.height), int(args.width)))\n",
    "\n",
    "padding = 20\n",
    "\n",
    "def preprocess(i):\n",
    "    sample = dataset[i]\n",
    "\n",
    "    img_name = sample[\"im_name\"]\n",
    "\n",
    "    agnostic_densepose = sample['parse_mask_total']\n",
    "    \n",
    "    matplotlib.image.imsave(os.path.join(args.dataroot, category, \"agnostic_densepose\", img_name), agnostic_densepose)\n",
    "    \n",
    "with ProcessPoolExecutor(max_workers=4) as executor:\n",
    "    p = executor.map(preprocess, range(len(dataset)))"
   ]
  },
  {
   "cell_type": "code",
   "execution_count": null,
   "id": "b7e15517-0e3d-4bbc-af0c-f9baa76325be",
   "metadata": {
    "tags": []
   },
   "outputs": [],
   "source": [
    "category = \"dresses\"\n",
    "\n",
    "dataset = DressCode_Dataset(args, \n",
    "                        dataroot_path=args.dataroot, \n",
    "                        category=[category],\n",
    "                        phase='test',\n",
    "                        order='paired',\n",
    "                        size=(int(args.height), int(args.width)))\n",
    "\n",
    "padding = 20\n",
    "\n",
    "def preprocess(i):\n",
    "    sample = dataset[i]\n",
    "\n",
    "    img_name = sample[\"im_name\"]\n",
    "\n",
    "    agnostic_densepose = sample['parse_mask_total']\n",
    "    \n",
    "    matplotlib.image.imsave(os.path.join(args.dataroot, category, \"agnostic_densepose\", img_name), agnostic_densepose)\n",
    "    \n",
    "with ProcessPoolExecutor(max_workers=4) as executor:\n",
    "    p = executor.map(preprocess, range(len(dataset)))"
   ]
  },
  {
   "cell_type": "code",
   "execution_count": null,
   "id": "30a95353-ab6f-4569-afcc-5b8f0663ad22",
   "metadata": {
    "tags": []
   },
   "outputs": [],
   "source": [
    "category = \"lower_body\"\n",
    "\n",
    "dataset = DressCode_Dataset(args, \n",
    "                        dataroot_path=args.dataroot, \n",
    "                        category=[category],\n",
    "                        phase='test',\n",
    "                        order='paired',\n",
    "                        size=(int(args.height), int(args.width)))\n",
    "\n",
    "padding = 20\n",
    "\n",
    "def preprocess(i):\n",
    "    sample = dataset[i]\n",
    "\n",
    "    img_name = sample[\"im_name\"]\n",
    "\n",
    "    agnostic_densepose = sample['parse_mask_total']\n",
    "    \n",
    "    matplotlib.image.imsave(os.path.join(args.dataroot, category, \"agnostic_densepose\", img_name), agnostic_densepose)\n",
    "    \n",
    "with ProcessPoolExecutor(max_workers=4) as executor:\n",
    "    p = executor.map(preprocess, range(len(dataset)))"
   ]
  },
  {
   "cell_type": "code",
   "execution_count": null,
   "id": "35ecb4c0-5137-49ee-93b2-d149ee522fa6",
   "metadata": {
    "tags": []
   },
   "outputs": [],
   "source": [
    "category = \"upper_body\"\n",
    "\n",
    "dataset = DressCode_Dataset(args, \n",
    "                        dataroot_path=args.dataroot, \n",
    "                        category=[category],\n",
    "                        phase='test',\n",
    "                        order='paired',\n",
    "                        size=(int(args.height), int(args.width)))\n",
    "\n",
    "padding = 20\n",
    "\n",
    "def preprocess(i):\n",
    "    sample = dataset[i]\n",
    "\n",
    "    img_name = sample[\"im_name\"]\n",
    "\n",
    "    agnostic_densepose = sample['parse_mask_total']\n",
    "    \n",
    "    matplotlib.image.imsave(os.path.join(args.dataroot, category, \"agnostic_densepose\", img_name), agnostic_densepose)\n",
    "    \n",
    "with ProcessPoolExecutor(max_workers=4) as executor:\n",
    "    p = executor.map(preprocess, range(len(dataset)))"
   ]
  },
  {
   "cell_type": "code",
   "execution_count": null,
   "id": "25af870b-fff1-4455-b222-99d8e2295b55",
   "metadata": {},
   "outputs": [],
   "source": []
  }
 ],
 "metadata": {
  "environment": {
   "kernel": "viton_env",
   "name": "workbench-notebooks.m125",
   "type": "gcloud",
   "uri": "us-docker.pkg.dev/deeplearning-platform-release/gcr.io/workbench-notebooks:m125"
  },
  "kernelspec": {
   "display_name": "viton_env",
   "language": "python",
   "name": "viton_env"
  },
  "language_info": {
   "codemirror_mode": {
    "name": "ipython",
    "version": 3
   },
   "file_extension": ".py",
   "mimetype": "text/x-python",
   "name": "python",
   "nbconvert_exporter": "python",
   "pygments_lexer": "ipython3",
   "version": "3.10.15"
  }
 },
 "nbformat": 4,
 "nbformat_minor": 5
}
